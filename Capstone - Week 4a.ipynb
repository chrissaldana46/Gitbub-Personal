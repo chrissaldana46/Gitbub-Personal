{
 "cells": [
  {
   "cell_type": "markdown",
   "metadata": {},
   "source": [
    "# Coursera Capstone - Week 4"
   ]
  },
  {
   "cell_type": "markdown",
   "metadata": {},
   "source": [
    "## Introduction / Business Problem"
   ]
  },
  {
   "cell_type": "markdown",
   "metadata": {},
   "source": [
    "    It has been a dream of mine to open a pizzeria.  According to CNBC, \"60 percent of new restaurants fail within the first year. And nearly 80 percent shutter before their fifth anniversary.\"  They attribute the number 1 reason of failure to restaurant location.  This sets up the problem for the case: how to determine the best location to open a successful pizzeria?\n",
    "   "
   ]
  },
  {
   "cell_type": "markdown",
   "metadata": {},
   "source": [
    "    Unfortunately it is not always enough to make a quality product to make a business successful.  You have to be unique and you have to have the good foresight to pick a location that will attract customers.  As a business owner, any advantage that you can use must be taken advantage of.  For the data scientist with a passion for cooking pizzas, you can tilt the odds in your favor by analyzing geographic locations."
   ]
  },
  {
   "cell_type": "markdown",
   "metadata": {},
   "source": [
    "    This case will utilize the Foursquare location to analyze the best location to open a pizzeria in San Antonio, TX."
   ]
  },
  {
   "cell_type": "code",
   "execution_count": null,
   "metadata": {},
   "outputs": [],
   "source": []
  }
 ],
 "metadata": {
  "kernelspec": {
   "display_name": "Python",
   "language": "python",
   "name": "conda-env-python-py"
  },
  "language_info": {
   "codemirror_mode": {
    "name": "ipython",
    "version": 3
   },
   "file_extension": ".py",
   "mimetype": "text/x-python",
   "name": "python",
   "nbconvert_exporter": "python",
   "pygments_lexer": "ipython3",
   "version": "3.6.10"
  }
 },
 "nbformat": 4,
 "nbformat_minor": 4
}
