{
 "cells": [
  {
   "cell_type": "markdown",
   "metadata": {},
   "source": [
    "# Coursera Capstone - Week 4"
   ]
  },
  {
   "cell_type": "markdown",
   "metadata": {},
   "source": [
    "## Data"
   ]
  },
  {
   "cell_type": "markdown",
   "metadata": {},
   "source": [
    "This analysis will utilize Foursquare location data.  This will be completed using API calls to Foursquare within an IBM Jupyter Notebook.  Further, I will obtain a list of San Antonio zip codes, via a webscrape from WorldPostalCode.com, to be assessed.  Having a list of San Antonio zip codes in conjunction with Foursquare's venue capabilities, I will determine where popular dining areas are located.  Further, this data will allow me to see if direct competitors are located nearby a prospective location.  K-Means Clustering can also be applied to segment the data."
   ]
  },
  {
   "cell_type": "code",
   "execution_count": null,
   "metadata": {},
   "outputs": [],
   "source": []
  }
 ],
 "metadata": {
  "kernelspec": {
   "display_name": "Python",
   "language": "python",
   "name": "conda-env-python-py"
  },
  "language_info": {
   "codemirror_mode": {
    "name": "ipython",
    "version": 3
   },
   "file_extension": ".py",
   "mimetype": "text/x-python",
   "name": "python",
   "nbconvert_exporter": "python",
   "pygments_lexer": "ipython3",
   "version": "3.6.10"
  }
 },
 "nbformat": 4,
 "nbformat_minor": 4
}
